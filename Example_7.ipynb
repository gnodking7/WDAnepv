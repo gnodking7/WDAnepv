{
  "nbformat": 4,
  "nbformat_minor": 0,
  "metadata": {
    "colab": {
      "provenance": [],
      "mount_file_id": "19j9r_5VCuzTBvvINDWJxd82i7C-8hoY_",
      "authorship_tag": "ABX9TyOy/Rk6w7ZwKOqgxku2Ktr6",
      "include_colab_link": true
    },
    "kernelspec": {
      "name": "python3",
      "display_name": "Python 3"
    },
    "language_info": {
      "name": "python"
    }
  },
  "cells": [
    {
      "cell_type": "markdown",
      "metadata": {
        "id": "view-in-github",
        "colab_type": "text"
      },
      "source": [
        "<a href=\"https://colab.research.google.com/github/gnodking7/WDAnepv/blob/main/Example_7.ipynb\" target=\"_parent\"><img src=\"https://colab.research.google.com/assets/colab-badge.svg\" alt=\"Open In Colab\"/></a>"
      ]
    },
    {
      "cell_type": "markdown",
      "source": [
        "# Objective\n",
        "In this example, we use Synthetic dataset to illustrate the scalibility of WDA-nepv with respect to subspace dimension $p$ and with respect to data dimension $d$.\n",
        "\n",
        "We will go over the background of the example in the following order:\n",
        "1.   What is Synthetic dataset?\n",
        "2.   What is WDA-nepv?\n",
        "3.   Example Setup\n",
        "\n",
        "### What is Synthetic dataset?\n",
        "As discussed in Example 2 and Example 3, Synthetic dataset consists of three classes whose data matrices are:\n",
        "$$\\mathbf{X}^1\\in\\mathbb{R}^{d\\times 30},\\quad \\mathbf{X}^2\\in\\mathbb{R}^{d\\times 40},\\quad \\mathbf{X}^3\\in\\mathbb{R}^{d\\times 30}$$\n",
        "The dataset is generated such that the first two components of the data points are centered around the coordinates $(-5,0)$ and $(5,0)$ for Class 1, centered around the coordinates $(-3,3)$ and $(3,-3)$ for Class 2, and centered around the coordinates $(-3,-3)$ and $(3,3)$ for Class 3. These first two components are randomly drawn at their corresponding centers using a Guassian distribution with a standard deviation of 0.5, and the number of data points for each class are equally split among its two clusters. The rest of $d-2$ components are drawn from the standard normal distribution. Finally, the dataset is standardized.\n",
        "\n",
        "### What is WDA-nepv?\n",
        "\n",
        "WDA-nepv is a simple iterative algorithm that solves Wasserstein Discriminant Analysis (WDA) [1]:\n",
        "$$\\max_{\\mathbf{P}^T\\mathbf{P}=I_p}\\frac{\\mbox{tr}(\\mathbf{P}^T\\mathbf{C}_b(\\mathbf{P})\\mathbf{P})}{\\mbox{tr}(\\mathbf{P}^T\\mathbf{C}_w(\\mathbf{P})\\mathbf{P})}$$\n",
        "where $\\mathbf{C}_b(\\mathbf{P})$ and $\\mathbf{C}_w(\\mathbf{P})$\n",
        "are defined as the between and within cross-covariance matrices\n",
        "$$\\mathbf{C}_b(\\mathbf{P}_k) = \\sum_{c,c'>c}  \\sum_{ij}{T}_{ij}^{c,c'}(\\mathbf{P}_k)(\\mathbf{x}_i^c-\\mathbf{x}_j^{c'})(\\mathbf{x}_i^c-\\mathbf{x}_j^{c'})^T$$\n",
        "$$\\mathbf{C}_w(\\mathbf{P}_k) = \\sum_c  \\sum_{ij}{T}_{ij}^{c,c}(\\mathbf{P}_k)(\\mathbf{x}_i^c-\\mathbf{x}_j^{c})(\\mathbf{x}_i^c-\\mathbf{x}_j^{c})^T $$\n",
        "The matrices $\\mathbf{T}^{c,c'}$ and $\\mathbf{T}^{c,c}$ are transport matrices and can be computed using Acc_SK. See Example 2 for the discussion of transport matrices and Acc_SK.\n",
        "\n",
        "In a nutshell, WDA-nepv can be described as an algorithm that iteratively updates the projection matrix $\\mathbf{P}_k$ by \n",
        "$$\\mathbf{P}_{k+1} = \\mbox{argmax}_{\\mathbf{P}^T\\mathbf{P}=I_p}\n",
        "\\frac{\\mbox{tr}(\\mathbf{P}^T\\mathbf{C}_b(\\mathbf{P}_k)\\mathbf{P})}\n",
        "{\\mbox{tr}(\\mathbf{P}^T\\mathbf{C}_w(\\mathbf{P}_k)\\mathbf{P})}$$\n",
        "which, as a standard trace ratio problem, can be solved by the Self-Consistent-Field (SCF) method [2].\n",
        "\n",
        "### Example Setup\n",
        "\n",
        "We investigate two different scenarios:\n",
        "\n",
        "\n",
        "\n",
        "*   Fix the data point dimension to $d=50$. We report the scalability on the increasing subspace dimension $p=1,2,3,4,5$ for three different regularization parameters $\\lambda=0.1,0.01,0.001$.\n",
        "*   Fix the subspace dimension to $p=2$. We report the scalability on the increasing dimension $d=10,20,40,80,160,320,640,1280,2560$ for three different regularization parameters $\\lambda=0.1,0.01,0.001$. The perturbation term $\\epsilon I_d$ for $\\epsilon=10$ is added to the matrix $\\mathbf{C}_w(\\mathbf{P})$ to ensure its positive definiteness and to speed up the computation speed. \n",
        "\n",
        "Initial projection matrix $\\mathbf{P}_0$ is randomly chosen. All results are averaged over 100 trials."
      ],
      "metadata": {
        "id": "ksLv4q83uVbK"
      }
    },
    {
      "cell_type": "markdown",
      "source": [
        "### Scenario 1"
      ],
      "metadata": {
        "id": "VKHOhVNwxs9C"
      }
    },
    {
      "cell_type": "code",
      "execution_count": 1,
      "metadata": {
        "id": "35Il0mcEuLqj"
      },
      "outputs": [],
      "source": [
        "import sys\n",
        "sys.path.append('/content/drive/My Drive/Colab Notebooks')"
      ]
    },
    {
      "cell_type": "code",
      "source": [
        "import WDA_datasets as datasets\n",
        "import WDAnepv\n",
        "import numpy as np\n",
        "import matplotlib.pylab as pl"
      ],
      "metadata": {
        "id": "gKUZOl-Vx50Y"
      },
      "execution_count": 2,
      "outputs": []
    },
    {
      "cell_type": "code",
      "source": [
        "import time\n",
        "\n",
        "# Run\n",
        "Time1, Time2, Time3 = [], [], []  # to store for various reg param\n",
        "n_trials = 100\n",
        "\n",
        "# trials\n",
        "for i in range(n_trials):\n",
        "  # load Synthetic dataset\n",
        "  TR, TR_L, TST, TST_L = datasets.load_synth(50, 100, 100)\n",
        "  for reg in [0.001, 0.01, 0.1]:\n",
        "    Time = [] # to store for various p\n",
        "    for p in [1, 2, 3, 4, 5]:\n",
        "      x0 = np.random.randn(50, p)\n",
        "      P0, r = np.linalg.qr(x0) # random initial projection\n",
        "      start = time.time()\n",
        "      Popt, proj, WDA_Val, PROJ, Sub_Err = WDAnepv.wda_nepv(TR, TR_L, p, reg, P0, tol=1e-8)\n",
        "      end = time.time()\n",
        "      Time.append(end - start)\n",
        "      if reg == 0.001:\n",
        "        Time1.append(Time)\n",
        "      elif reg == 0.01:\n",
        "        Time2.append(Time)\n",
        "      elif reg == 0.1:\n",
        "        Time3.append(Time)\n",
        "\n",
        "# averages\n",
        "Avg_Time1 = np.mean(Time1, 0) # for reg param 0.001\n",
        "Avg_Time2 = np.mean(Time2, 0) # for reg param 0.01\n",
        "Avg_Time3 = np.mean(Time3, 0) # for reg param 0.1\n",
        "\n",
        "# Plot\n",
        "pl.plot([1,2,3,4,5], Avg_Time1, '+-', linewidth=3, markersize=12, label='$\\lambda=0.001$')\n",
        "pl.plot([1,2,3,4,5], Avg_Time2, '+-', linewidth=3, markersize=12, label='$\\lambda=0.01$')\n",
        "pl.plot([1,2,3,4,5], Avg_Time3, '+-', linewidth=3, markersize=12, label='$\\lambda=0.1$')\n",
        "pl.legend()\n",
        "pl.xlabel('Subspace dimension p')\n",
        "pl.ylabel('Elapsed time (seconds)')"
      ],
      "metadata": {
        "colab": {
          "base_uri": "https://localhost:8080/",
          "height": 296
        },
        "id": "4Tfgv4EayXut",
        "outputId": "9ca4d257-d2a4-4f85-a2fc-08a2486f976f"
      },
      "execution_count": null,
      "outputs": [
        {
          "output_type": "execute_result",
          "data": {
            "text/plain": [
              "Text(0, 0.5, 'Elapsed time (seconds)')"
            ]
          },
          "metadata": {},
          "execution_count": 5
        },
        {
          "output_type": "display_data",
          "data": {
            "text/plain": [
              "<Figure size 432x288 with 1 Axes>"
            ],
            "image/png": "[encoded data removed]"
          },
          "metadata": {
            "needs_background": "light"
          }
        }
      ]
    },
    {
      "cell_type": "markdown",
      "source": [
        "### Scenario 2"
      ],
      "metadata": {
        "id": "QnTIqz9v4_wS"
      }
    },
    {
      "cell_type": "code",
      "source": [
        "import time\n",
        "\n",
        "# Run\n",
        "Time1, Time2, Time3 = [], [], []  # to store for various reg param\n",
        "n_trials = 100\n",
        "\n",
        "# trials\n",
        "for i in range(n_trials):\n",
        "  for reg in [0.001, 0.01, 0.1]:\n",
        "    Time = [] # to store for various d\n",
        "    for d in [10, 20, 40, 80, 160, 320, 640, 1280, 2560]:\n",
        "      # load Synthetic dataset\n",
        "      TR, TR_L, TST, TST_L = datasets.load_synth(d, 100, 100)\n",
        "      x0 = np.random.randn(d, 2)\n",
        "      P0, r = np.linalg.qr(x0) # random initial projection\n",
        "      start = time.time()\n",
        "      Popt, proj, WDA_Val, PROJ, Sub_Err = WDAnepv.wda_nepv(TR, TR_L, 2, reg, P0, Breg=10, tol=1e-8)\n",
        "      end = time.time()\n",
        "      Time.append(end - start)\n",
        "      if reg == 0.001:\n",
        "        Time1.append(Time)\n",
        "      elif reg == 0.01:\n",
        "        Time2.append(Time)\n",
        "      elif reg == 0.1:\n",
        "        Time3.append(Time)\n",
        "\n",
        "# averages\n",
        "Avg_Time1 = np.mean(Time1, 0) # for reg param 0.001\n",
        "Avg_Time2 = np.mean(Time2, 0) # for reg param 0.01\n",
        "Avg_Time3 = np.mean(Time3, 0) # for reg param 0.1\n",
        "\n",
        "# Plot\n",
        "pl.plot([10, 20, 40, 80, 160, 320, 640, 1280, 2560], Avg_Time1, '+-', linewidth=3, markersize=12, label='$\\lambda=0.001$')\n",
        "pl.plot([10, 20, 40, 80, 160, 320, 640, 1280, 2560], Avg_Time2, '+-', linewidth=3, markersize=12, label='$\\lambda=0.01$')\n",
        "pl.plot([10, 20, 40, 80, 160, 320, 640, 1280, 2560], Avg_Time3, '+-', linewidth=3, markersize=12, label='$\\lambda=0.1$')\n",
        "pl.legend()\n",
        "pl.xlabel('Dimension d')\n",
        "pl.ylabel('Elapsed time (seconds)')"
      ],
      "metadata": {
        "id": "lByPZoK75Bf0",
        "colab": {
          "base_uri": "https://localhost:8080/",
          "height": 300
        },
        "outputId": "839ce17c-0206-429a-cd16-c8d7183c250f"
      },
      "execution_count": 3,
      "outputs": [
        {
          "output_type": "execute_result",
          "data": {
            "text/plain": [
              "Text(0, 0.5, 'Elapsed time (seconds)')"
            ]
          },
          "metadata": {},
          "execution_count": 3
        },
        {
          "output_type": "display_data",
          "data": {
            "text/plain": [
              "<Figure size 432x288 with 1 Axes>"
            ],
            "image/png": "[encoded data removed]"
          },
          "metadata": {
            "needs_background": "light"
          }
        }
      ]
    },
    {
      "cell_type": "markdown",
      "source": [
        "# References\n",
        "\n",
        "[1] R ́emi Flamary, Marco Cuturi, Nicolas Courty, and Alain Rakotomamonjy. Wasserstein dis-\n",
        "criminant analysis. Machine Learning, 107(12):1923–1945, 2018.\n",
        "\n",
        "[2] Lei-Hong Zhang, Li-Zhi Liao, and Michael K Ng. Fast algorithms for the generalized foley–\n",
        "sammon discriminant analysis. SIAM journal on matrix analysis and applications, 31(4):1584–\n",
        "1605, 2010."
      ],
      "metadata": {
        "id": "duKVC6SKwA0q"
      }
    }
  ]
}